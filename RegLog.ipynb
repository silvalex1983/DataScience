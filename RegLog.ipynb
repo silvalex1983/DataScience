{
  "nbformat": 4,
  "nbformat_minor": 0,
  "metadata": {
    "colab": {
      "name": "RegLog.ipynb",
      "provenance": [],
      "collapsed_sections": []
    },
    "kernelspec": {
      "name": "python3",
      "display_name": "Python 3"
    }
  },
  "cells": [
    {
      "cell_type": "code",
      "metadata": {
        "id": "XtAUq9Uib0M6",
        "outputId": "82b7de9c-3b86-4f52-8a0c-b998a133b921",
        "colab": {
          "base_uri": "https://localhost:8080/",
          "height": 71
        }
      },
      "source": [
        "# import de modulos pandas e numpy\n",
        "import numpy as np\n",
        "import pandas as pd\n",
        "from pandas import Series,DataFrame\n",
        "\n",
        "# Math\n",
        "import math\n",
        "\n",
        "# import de modulos para graficos\n",
        "import matplotlib.pyplot as plt\n",
        "import seaborn as sns\n",
        "sns.set_style('whitegrid')\n",
        "%matplotlib inline\n",
        "\n",
        "# imports para Machine Learning \n",
        "from sklearn.linear_model import LogisticRegression\n",
        "# from sklearn.cross_validation import train_test_split # modulo antigo\n",
        "from sklearn.model_selection import train_test_split\n",
        "\n",
        "# para avaliacao\n",
        "from sklearn import metrics\n",
        "\n",
        "# dataset\n",
        "import statsmodels.api as sm"
      ],
      "execution_count": 1,
      "outputs": [
        {
          "output_type": "stream",
          "text": [
            "/usr/local/lib/python3.6/dist-packages/statsmodels/tools/_testing.py:19: FutureWarning: pandas.util.testing is deprecated. Use the functions in the public API at pandas.testing instead.\n",
            "  import pandas.util.testing as tm\n"
          ],
          "name": "stderr"
        }
      ]
    },
    {
      "cell_type": "code",
      "metadata": {
        "id": "rLDpB4hyb_P9"
      },
      "source": [
        "# Função Logistica\n",
        "def logistic(t):\n",
        "    return 1.0 / (1 + math.exp((-1.0)*t) )\n",
        "\n",
        "# cria um grade de -6 a 6 ( 500 elementos, igualmente espaçados)\n",
        "grade_t = np.linspace(-6,6,500)\n",
        "\n",
        "# calcula os valores de y\n",
        "p = np.array([logistic(t) for t in grade_t])\n",
        "\n",
        "# usando exp do numpy que aceita um vetor como argumento\n",
        "p = 1/(1 + np.exp(-1.0 * grade_t))\n",
        "\n",
        "# plot\n",
        "plt.plot(grade_t,p)\n",
        "plt.title(' Funcao Logistica ');"
      ],
      "execution_count": null,
      "outputs": []
    },
    {
      "cell_type": "code",
      "metadata": {
        "id": "syUw5y2KcCxw"
      },
      "source": [
        "import webbrowser\n",
        "\n",
        "url = 'http://statsmodels.sourceforge.net/stable/datasets/generated/fair.html'\n",
        "\n",
        "webbrowser.open_new(url)"
      ],
      "execution_count": null,
      "outputs": []
    },
    {
      "cell_type": "code",
      "metadata": {
        "id": "ylyJUlfRcFiY"
      },
      "source": [
        "df = sm.datasets.fair.load_pandas().data"
      ],
      "execution_count": null,
      "outputs": []
    },
    {
      "cell_type": "code",
      "metadata": {
        "id": "UfqQsdW2cJ72"
      },
      "source": [
        "df.sample(5)"
      ],
      "execution_count": null,
      "outputs": []
    },
    {
      "cell_type": "code",
      "metadata": {
        "id": "dmAjB-78cLBX"
      },
      "source": [
        "df.info()"
      ],
      "execution_count": null,
      "outputs": []
    },
    {
      "cell_type": "code",
      "metadata": {
        "id": "mbwb2OsgcNSW"
      },
      "source": [
        "# Define uma coluna, indicador binário que indica se a pessoa teve um caso extra-conjugal\n",
        "df['teve_affair'] = [1 if a else 0 for a in df.affairs]"
      ],
      "execution_count": null,
      "outputs": []
    },
    {
      "cell_type": "code",
      "metadata": {
        "id": "2d_VmkkgcP9G"
      },
      "source": [
        "df.sample(5)"
      ],
      "execution_count": null,
      "outputs": []
    },
    {
      "cell_type": "code",
      "metadata": {
        "id": "7bdAOmK-cTAJ"
      },
      "source": [
        "# Media por cada label\n",
        "df.groupby('teve_affair').mean().round(2)"
      ],
      "execution_count": null,
      "outputs": []
    },
    {
      "cell_type": "code",
      "metadata": {
        "id": "YgADv_FycVIm"
      },
      "source": [
        "# desvio padrão por cada label\n",
        "df.groupby('teve_affair').std()"
      ],
      "execution_count": null,
      "outputs": []
    },
    {
      "cell_type": "code",
      "metadata": {
        "id": "WoGebbNucW3W"
      },
      "source": [
        "sns.set_context('poster')"
      ],
      "execution_count": null,
      "outputs": []
    },
    {
      "cell_type": "code",
      "metadata": {
        "id": "iCDUEdiPcZYO"
      },
      "source": [
        "df.affairs.describe(percentiles=[0, 0.9, 0.99])"
      ],
      "execution_count": null,
      "outputs": []
    },
    {
      "cell_type": "code",
      "metadata": {
        "id": "0l1CCICscbaO"
      },
      "source": [
        "# Countplot com idade\n",
        "sns.countplot(data=df, x='age', hue='teve_affair', palette='coolwarm')\n",
        "# sns.distplot(df[df.teve_affair == 0].age)\n",
        "# sns.distplot(df[df.teve_affair == 1].age)"
      ],
      "execution_count": null,
      "outputs": []
    },
    {
      "cell_type": "code",
      "metadata": {
        "id": "1ofBODs2cdt9"
      },
      "source": [
        "# Countplot com anos de casamento\n",
        "sns.countplot('yrs_married',data=df,hue='teve_affair',palette='coolwarm')"
      ],
      "execution_count": null,
      "outputs": []
    },
    {
      "cell_type": "code",
      "metadata": {
        "id": "CnyonR07cfcH"
      },
      "source": [
        "# Countplot com quantidade de filhos\n",
        "sns.countplot('children',data=df,hue='teve_affair',palette='coolwarm')"
      ],
      "execution_count": null,
      "outputs": []
    },
    {
      "cell_type": "code",
      "metadata": {
        "id": "ID5TjT3xcg_2"
      },
      "source": [
        "# Countplot com nivel de educação\n",
        "sns.countplot('educ',data=df,hue='teve_affair',palette='coolwarm')"
      ],
      "execution_count": null,
      "outputs": []
    },
    {
      "cell_type": "code",
      "metadata": {
        "id": "Ku-ANvTAcif3"
      },
      "source": [
        "# considerando que a pessoa teve um caso extra-conjugal, \n",
        "# visualizacão da distribuição por boxplot\n",
        "sns.boxplot(data=df[df.affairs > 0], x='age', y = 'affairs')\n",
        "plt.ylim(0, 15)"
      ],
      "execution_count": null,
      "outputs": []
    },
    {
      "cell_type": "code",
      "metadata": {
        "id": "MRiWVon3cket"
      },
      "source": [
        "# considerando que a pessoa teve um caso extra-conjugal, \n",
        "# visualizacão da distribuição por violinplot\n",
        "sns.violinplot(data=df[(df.affairs > 0) & (df.affairs < 9)], x='age', y = 'affairs')\n",
        "plt.ylim(-2, 12)"
      ],
      "execution_count": null,
      "outputs": []
    },
    {
      "cell_type": "code",
      "metadata": {
        "id": "5tuqeLp9cmNO"
      },
      "source": [
        "sns.pairplot(data=df[['affairs', 'age', 'yrs_married', 'children', 'religious']], \n",
        "        plot_kws = {'alpha':0.08, 's':180, 'edgecolor': None},)"
      ],
      "execution_count": null,
      "outputs": []
    },
    {
      "cell_type": "code",
      "metadata": {
        "id": "KLdtGn3lcn8V"
      },
      "source": [
        "df.sample(5)"
      ],
      "execution_count": null,
      "outputs": []
    },
    {
      "cell_type": "code",
      "metadata": {
        "id": "V-ZLifC6csIF"
      },
      "source": [
        "# Cria novo DataFrame para as colunas categoricas\n",
        "occ_dummies = pd.get_dummies(df['occupation'])\n",
        "hus_occ_dummies = pd.get_dummies(df['occupation_husb'])\n",
        "\n",
        "occ_dummies.head()"
      ],
      "execution_count": null,
      "outputs": []
    },
    {
      "cell_type": "code",
      "metadata": {
        "id": "zPFDHfGAcu6e"
      },
      "source": [
        "# Atribui nomes as colunas\n",
        "occ_dummies.columns = ['occ1','occ2','occ3','occ4','occ5','occ6']\n",
        "hus_occ_dummies.columns = ['hocc1','hocc2','hocc3','hocc4','hocc5','hocc6']"
      ],
      "execution_count": null,
      "outputs": []
    },
    {
      "cell_type": "code",
      "metadata": {
        "id": "-wUZkjlucwct"
      },
      "source": [
        "# Atribui X primeiramente sem as colunas categoricas \n",
        "X = df.drop(['occupation','occupation_husb','teve_affair'],axis=1)\n",
        "\n",
        "# Concatena os dataframes dummies\n",
        "dummies = pd.concat([occ_dummies,hus_occ_dummies],axis=1)"
      ],
      "execution_count": null,
      "outputs": []
    },
    {
      "cell_type": "code",
      "metadata": {
        "id": "DAw9HPHMcyM1"
      },
      "source": [
        "# Concatena o X com o dataframe dos dummies\n",
        "X = pd.concat([X,dummies],axis=1)\n",
        "\n",
        "# amostragem do X\n",
        "X.sample(5)"
      ],
      "execution_count": null,
      "outputs": []
    },
    {
      "cell_type": "code",
      "metadata": {
        "id": "WAFf9cRDc0bt"
      },
      "source": [
        "# deletando uma coluna para cada coluna categorica\n",
        "X = X.drop('occ1',axis=1)\n",
        "X = X.drop('hocc1',axis=1)\n",
        "\n",
        "# deletando coluna não utilizada\n",
        "X = X.drop('affairs',axis=1)\n",
        "\n",
        "# amostragem\n",
        "X.sample(5)"
      ],
      "execution_count": null,
      "outputs": []
    },
    {
      "cell_type": "code",
      "metadata": {
        "id": "aivN69snc43E"
      },
      "source": [
        "# Atribui y a coluna teve_affair\n",
        "y = df.teve_affair\n",
        "\n",
        "# amostragem do y\n",
        "y.head()"
      ],
      "execution_count": null,
      "outputs": []
    },
    {
      "cell_type": "code",
      "metadata": {
        "id": "6S33SfTEc69U"
      },
      "source": [
        "# transformando em numpy\n",
        "y = y.values\n",
        "\n",
        "# checando resultado\n",
        "y"
      ],
      "execution_count": null,
      "outputs": []
    },
    {
      "cell_type": "code",
      "metadata": {
        "id": "EUUWYsmdc8ye"
      },
      "source": [
        "y.mean()"
      ],
      "execution_count": null,
      "outputs": []
    },
    {
      "cell_type": "code",
      "metadata": {
        "id": "6kFdr4Rxc-tu"
      },
      "source": [
        "# Instanciando objeto\n",
        "log_model = LogisticRegression()\n",
        "\n",
        "# Treinando o modelo\n",
        "log_model.fit(X, y)\n",
        "\n",
        "# Checando acurácia\n",
        "log_model.score(X, y)"
      ],
      "execution_count": null,
      "outputs": []
    },
    {
      "cell_type": "code",
      "metadata": {
        "id": "kgOu2mmjdBA9"
      },
      "source": [
        "log_model"
      ],
      "execution_count": null,
      "outputs": []
    },
    {
      "cell_type": "code",
      "metadata": {
        "id": "QtO7uKzadDTk"
      },
      "source": [
        "y.mean()"
      ],
      "execution_count": null,
      "outputs": []
    },
    {
      "cell_type": "code",
      "metadata": {
        "id": "XPhfe4IMdE2k"
      },
      "source": [
        "coeff_df = DataFrame(log_model.coef_)\n",
        "\n",
        "coeff_df.columns = X.columns\n",
        "\n",
        "coeff_df = coeff_df.T\n",
        "\n",
        "coeff_df.columns = ['coeficiente']"
      ],
      "execution_count": null,
      "outputs": []
    },
    {
      "cell_type": "code",
      "metadata": {
        "id": "pqNu8lT4dGyV"
      },
      "source": [
        "coeff_df.plot(kind='bar', figsize=(12,6))"
      ],
      "execution_count": null,
      "outputs": []
    },
    {
      "cell_type": "code",
      "metadata": {
        "id": "yygkgS5qdIwM"
      },
      "source": [
        "from sklearn import metrics"
      ],
      "execution_count": null,
      "outputs": []
    },
    {
      "cell_type": "code",
      "metadata": {
        "id": "BqTkFqvEdKJ7"
      },
      "source": [
        "metrics.confusion_matrix(y, log_model.predict(X))"
      ],
      "execution_count": null,
      "outputs": []
    },
    {
      "cell_type": "code",
      "metadata": {
        "id": "HOId-0BqdNEe"
      },
      "source": [
        "# Segmentando a base\n",
        "X_train, X_test, y_train, y_test = train_test_split(X, y, random_state = 100)\n",
        "\n",
        "# Instanciando um objeto\n",
        "log_model2 = LogisticRegression()\n",
        "\n",
        "# Treinando o modelo\n",
        "log_model2.fit(X_train, y_train)"
      ],
      "execution_count": null,
      "outputs": []
    },
    {
      "cell_type": "code",
      "metadata": {
        "id": "nxGgCYj6d2qP"
      },
      "source": [
        ""
      ],
      "execution_count": null,
      "outputs": []
    },
    {
      "cell_type": "code",
      "metadata": {
        "id": "-MdacMd9dO0d"
      },
      "source": [
        "# Predizendo a classe das observações de teste\n",
        "class_predict = log_model2.predict(X_test)\n",
        "\n",
        "# Comparando as classes da predição e o gold, \n",
        "# ou seja, medindo a performance...\n",
        "print (metrics.accuracy_score(y_test,class_predict))"
      ],
      "execution_count": null,
      "outputs": []
    },
    {
      "cell_type": "code",
      "metadata": {
        "id": "vfh7FuFBdQkN"
      },
      "source": [
        "metrics.confusion_matrix(y_test, log_model2.predict(X_test))"
      ],
      "execution_count": null,
      "outputs": []
    },
    {
      "cell_type": "code",
      "metadata": {
        "id": "6U8lbz-BdSSt"
      },
      "source": [
        "print(metrics.classification_report(y_test, log_model2.predict(X_test)))"
      ],
      "execution_count": null,
      "outputs": []
    },
    {
      "cell_type": "code",
      "metadata": {
        "id": "0NN95mK6dTsd"
      },
      "source": [
        "log_model2.coef_"
      ],
      "execution_count": null,
      "outputs": []
    },
    {
      "cell_type": "code",
      "metadata": {
        "id": "yKs3j22OdVOs"
      },
      "source": [
        "log_model2.intercept_"
      ],
      "execution_count": null,
      "outputs": []
    },
    {
      "cell_type": "code",
      "metadata": {
        "id": "S3ovqmV8dXD1"
      },
      "source": [
        "X_train.columns"
      ],
      "execution_count": null,
      "outputs": []
    },
    {
      "cell_type": "code",
      "metadata": {
        "id": "_rkhekAldlTs"
      },
      "source": [
        ""
      ],
      "execution_count": null,
      "outputs": []
    },
    {
      "cell_type": "code",
      "metadata": {
        "id": "pCnyPMnCdaUd"
      },
      "source": [
        "y_test"
      ],
      "execution_count": null,
      "outputs": []
    },
    {
      "cell_type": "code",
      "metadata": {
        "id": "KchaFRoydb1U"
      },
      "source": [
        "class_predict"
      ],
      "execution_count": null,
      "outputs": []
    },
    {
      "cell_type": "code",
      "metadata": {
        "id": "AFF7Ypw_ddo8"
      },
      "source": [
        "(log_model2.predict_proba(X_test)[:,1] > 0.2).astype(int)"
      ],
      "execution_count": null,
      "outputs": []
    },
    {
      "cell_type": "code",
      "metadata": {
        "id": "jZNqMKZHdgGE"
      },
      "source": [
        "# matriz de confusão\n",
        "confusion_matrix = metrics.confusion_matrix(y_test, class_predict)\n",
        "confusion_matrix"
      ],
      "execution_count": null,
      "outputs": []
    },
    {
      "cell_type": "code",
      "metadata": {
        "id": "_AuseFKUdhs7"
      },
      "source": [
        "# Label gold na vertical, e label predição na horizontal\n",
        "sns.heatmap(confusion_matrix, annot=True, fmt ='d')"
      ],
      "execution_count": null,
      "outputs": []
    },
    {
      "cell_type": "code",
      "metadata": {
        "id": "hYRjmEdldm-7"
      },
      "source": [
        "print(metrics.classification_report(y_test, class_predict))"
      ],
      "execution_count": null,
      "outputs": []
    },
    {
      "cell_type": "code",
      "metadata": {
        "id": "P3_Ko7w2do60"
      },
      "source": [
        "confusion_matrix/confusion_matrix.sum()"
      ],
      "execution_count": null,
      "outputs": []
    },
    {
      "cell_type": "code",
      "metadata": {
        "id": "Oth7-tUedrE9"
      },
      "source": [
        "y_pred = log_model2.predict_proba(X_test)[:,1]"
      ],
      "execution_count": null,
      "outputs": []
    },
    {
      "cell_type": "code",
      "metadata": {
        "id": "Z5WUPhWDdsj8"
      },
      "source": [
        "from sklearn.metrics import roc_auc_score"
      ],
      "execution_count": null,
      "outputs": []
    },
    {
      "cell_type": "code",
      "metadata": {
        "id": "twGuf56jduIt"
      },
      "source": [
        "roc_auc_score(y_test, y_pred)"
      ],
      "execution_count": null,
      "outputs": []
    }
  ]
}