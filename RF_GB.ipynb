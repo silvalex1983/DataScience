{
  "nbformat": 4,
  "nbformat_minor": 0,
  "metadata": {
    "colab": {
      "name": "RF_GB.ipynb",
      "provenance": []
    },
    "kernelspec": {
      "name": "python3",
      "display_name": "Python 3"
    }
  },
  "cells": [
    {
      "cell_type": "code",
      "metadata": {
        "id": "i4_cGAUle09U"
      },
      "source": [
        "import numpy as np\n",
        "import pandas as pd\n",
        "import matplotlib.pyplot as plt\n",
        "import seaborn\n",
        "\n",
        "%matplotlib inline"
      ],
      "execution_count": null,
      "outputs": []
    },
    {
      "cell_type": "code",
      "metadata": {
        "id": "rHvQ1Sc4e6Q5"
      },
      "source": [
        "# Criando datasets\n",
        "from sklearn.datasets import make_blobs\n",
        "\n",
        "X, y = make_blobs(n_samples=500, centers=4, random_state=101, cluster_std=2.1)\n",
        "\n",
        "plt.figure(figsize=(6,6))\n",
        "plt.scatter(X[:,0], X[:,1], c = y, s = 50, cmap='jet')\n",
        "\n",
        "font = {'family': 'serif',\n",
        "        'color':  'black',\n",
        "        'weight': 'normal',\n",
        "        'size': 18,\n",
        "        }\n",
        "\n",
        "plt.xlabel('X', fontdict=font);\n",
        "plt.ylabel('Y', fontdict=font);\n"
      ],
      "execution_count": null,
      "outputs": []
    },
    {
      "cell_type": "code",
      "metadata": {
        "id": "62insH2oe8my"
      },
      "source": [
        "from sklearn.tree import DecisionTreeClassifier"
      ],
      "execution_count": null,
      "outputs": []
    },
    {
      "cell_type": "code",
      "metadata": {
        "id": "9MsR7jD9e-ly"
      },
      "source": [
        "def visualize_tree(classifier, X, y, \n",
        "                   boundaries=True,\n",
        "                   xlim=None, ylim=None):\n",
        "    '''\n",
        "    Visualizes a Decision Tree. \n",
        "    INPUTS: Classifier Model, X, y, optional x/y limits.\n",
        "    OUTPUTS: Meshgrid visualization for boundaries of the Decision Tree\n",
        "    '''\n",
        "     \n",
        "    # Fit the X and y data to the tree\n",
        "    classifier.fit(X, y)\n",
        "\n",
        "    \n",
        "    # Automatically set the x and y limits to the data (+/- 0.1)\n",
        "    if xlim is None:\n",
        "        xlim = (X[:, 0].min() - 0.1, X[:, 0].max() + 0.1)\n",
        "    if ylim is None:\n",
        "        ylim = (X[:, 1].min() - 0.1, X[:, 1].max() + 0.1)\n",
        "\n",
        "    # Assign the variables\n",
        "    x_min, x_max = xlim\n",
        "    y_min, y_max = ylim\n",
        "    \n",
        "    \n",
        "    # Create a mesh grid\n",
        "    xx, yy = np.meshgrid(np.linspace(x_min, x_max, 100),\n",
        "                         np.linspace(y_min, y_max, 100))\n",
        "    \n",
        "    # Define the Z by the predictions (this will color in the mesh grid)\n",
        "    Z = classifier.predict(np.c_[xx.ravel(), yy.ravel()])\n",
        "\n",
        "    # Reshape based on meshgrid\n",
        "    Z = Z.reshape(xx.shape)\n",
        "    \n",
        "    # Plot the figure (use)\n",
        "    plt.figure(figsize=(10,10))\n",
        "    plt.pcolormesh(xx, yy, Z, alpha=0.2, cmap='jet')\n",
        "    \n",
        "\n",
        "    # Plot also the training points\n",
        "    plt.scatter(X[:, 0], X[:, 1], c=y, s=50, cmap='jet')\n",
        "    \n",
        "    #Set Limits\n",
        "    plt.xlim(x_min, x_max)\n",
        "    plt.ylim(y_min, y_max)        \n",
        "    \n",
        "    \n",
        "    font = {'family': 'serif',\n",
        "        'color':  'black',\n",
        "        'weight': 'normal',\n",
        "        'size': 18,\n",
        "        }\n",
        "    \n",
        "    plt.xlabel('X', fontdict=font);\n",
        "    plt.ylabel('Y', fontdict=font);\n",
        "    \n",
        "    def plot_boundaries(i, xlim, ylim):\n",
        "        '''\n",
        "        Plots the Decision Boundaries\n",
        "        '''\n",
        "        if i < 0:\n",
        "            return\n",
        "\n",
        "        # Shorter variable name\n",
        "        tree = classifier.tree_\n",
        "        \n",
        "        # Recursively go through nodes of tree to plot boundaries.\n",
        "        if tree.feature[i] == 0:\n",
        "            plt.plot([tree.threshold[i], tree.threshold[i]], ylim, '-k')\n",
        "            plot_boundaries(tree.children_left[i],\n",
        "                            [xlim[0], tree.threshold[i]], ylim)\n",
        "            plot_boundaries(tree.children_right[i],\n",
        "                            [tree.threshold[i], xlim[1]], ylim)\n",
        "        \n",
        "        elif tree.feature[i] == 1:\n",
        "            plt.plot(xlim, [tree.threshold[i], tree.threshold[i]], '-k')\n",
        "            plot_boundaries(tree.children_left[i], xlim,\n",
        "                            [ylim[0], tree.threshold[i]])\n",
        "            plot_boundaries(tree.children_right[i], xlim,\n",
        "                            [tree.threshold[i], ylim[1]])\n",
        "    \n",
        "    # Random Forest vs Single Tree\n",
        "    if boundaries:\n",
        "        plot_boundaries(0, plt.xlim(), plt.ylim())"
      ],
      "execution_count": null,
      "outputs": []
    },
    {
      "cell_type": "code",
      "metadata": {
        "id": "_AEG9ZC7fBiy"
      },
      "source": [
        "clf = DecisionTreeClassifier(max_depth=1, random_state=20, )\n",
        "\n",
        "visualize_tree(clf, X, y)"
      ],
      "execution_count": null,
      "outputs": []
    },
    {
      "cell_type": "code",
      "metadata": {
        "id": "UoJ3NShNfDuh"
      },
      "source": [
        "# formula calculo gini\n",
        "def gini(lst):\n",
        "    soma = sum(lst)\n",
        "    return 1 - sum([(e/soma) ** 2 for e in lst])"
      ],
      "execution_count": null,
      "outputs": []
    },
    {
      "cell_type": "code",
      "metadata": {
        "id": "i-B0TYh-fGIa"
      },
      "source": [
        "no_raiz = np.bincount(y)\n",
        "print('Gini de', no_raiz,':', gini(no_raiz))"
      ],
      "execution_count": null,
      "outputs": []
    },
    {
      "cell_type": "code",
      "metadata": {
        "id": "Lw2XK2O0fH2y"
      },
      "source": [
        "no_esq = [0, 125, 0, 2]\n",
        "print('Gini de', no_esq,':', round(gini(no_esq), 5))\n",
        "no_dir = [125, 0, 125, 123]\n",
        "print('Gini de', no_dir,':', round(gini(no_dir), 5))"
      ],
      "execution_count": null,
      "outputs": []
    },
    {
      "cell_type": "code",
      "metadata": {
        "id": "_ytWdK6_fQzQ"
      },
      "source": [
        "clf = DecisionTreeClassifier(max_depth=2, random_state = 99)\n",
        "\n",
        "visualize_tree(clf, X, y)"
      ],
      "execution_count": null,
      "outputs": []
    },
    {
      "cell_type": "code",
      "metadata": {
        "id": "sPCud_dffSvR"
      },
      "source": [
        "clf = DecisionTreeClassifier(random_state=1000, max_depth = 20)\n",
        "\n",
        "visualize_tree(clf, X, y)"
      ],
      "execution_count": null,
      "outputs": []
    },
    {
      "cell_type": "code",
      "metadata": {
        "id": "rMNtOYmqfVi6"
      },
      "source": [
        "from sklearn.ensemble import RandomForestClassifier\n",
        "\n",
        "# n_estimators\n",
        "clf = RandomForestClassifier(n_estimators=50, max_depth = 4,\n",
        "                             random_state=0, n_jobs=-1)\n",
        "\n",
        "# As bordas entre regiões adquirem contornos mais 'suaves'\n",
        "# quebrando a dicotomia inerente ao algoritmo de arvore de decisão.\n",
        "visualize_tree(clf,X,y,boundaries=False)"
      ],
      "execution_count": null,
      "outputs": []
    },
    {
      "cell_type": "code",
      "metadata": {
        "id": "LsfPdoWAfYsx"
      },
      "source": [
        "from sklearn.metrics import accuracy_score, confusion_matrix, classification_report\n",
        "from sklearn import metrics\n",
        "\n",
        "import seaborn as sns\n",
        "%matplotlib inline"
      ],
      "execution_count": null,
      "outputs": []
    },
    {
      "cell_type": "code",
      "metadata": {
        "id": "mmjOz2jIfaeh"
      },
      "source": [
        "y_pred = clf.predict(X)"
      ],
      "execution_count": null,
      "outputs": []
    },
    {
      "cell_type": "code",
      "metadata": {
        "id": "95Lt4LwvfcCx"
      },
      "source": [
        "print (accuracy_score(y, y_pred))"
      ],
      "execution_count": null,
      "outputs": []
    },
    {
      "cell_type": "code",
      "metadata": {
        "id": "oePMgvxsfdnZ"
      },
      "source": [
        "confusion_matrix(y, y_pred)"
      ],
      "execution_count": null,
      "outputs": []
    },
    {
      "cell_type": "code",
      "metadata": {
        "id": "2HOlQweOffTJ"
      },
      "source": [
        "sns.heatmap(confusion_matrix(y, y_pred), annot=True, fmt='d', cmap = 'coolwarm')"
      ],
      "execution_count": null,
      "outputs": []
    },
    {
      "cell_type": "code",
      "metadata": {
        "id": "1KrQuaSFfhA4"
      },
      "source": [
        "print(classification_report(y, y_pred))"
      ],
      "execution_count": null,
      "outputs": []
    },
    {
      "cell_type": "code",
      "metadata": {
        "id": "Jk0w8b9vfilw"
      },
      "source": [
        "from sklearn.metrics import accuracy_score, roc_auc_score, f1_score\n",
        "\n",
        "f1_score(y, y_pred, average = 'weighted')"
      ],
      "execution_count": null,
      "outputs": []
    },
    {
      "cell_type": "code",
      "metadata": {
        "id": "T3JZ1CKYfkRQ"
      },
      "source": [
        "from sklearn.ensemble import GradientBoostingClassifier"
      ],
      "execution_count": null,
      "outputs": []
    },
    {
      "cell_type": "code",
      "metadata": {
        "id": "ypmYzNICfnpo"
      },
      "source": [
        "clf = GradientBoostingClassifier(n_estimators=25,random_state=0, \n",
        "                             max_depth = 1, min_samples_split=250)\n",
        "\n",
        "visualize_tree(clf,X,y,boundaries=False)"
      ],
      "execution_count": null,
      "outputs": []
    }
  ]
}